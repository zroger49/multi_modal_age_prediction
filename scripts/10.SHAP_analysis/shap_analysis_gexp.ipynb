{
 "cells": [
  {
   "cell_type": "markdown",
   "metadata": {},
   "source": [
    "# Explicability with SHAP values"
   ]
  },
  {
   "cell_type": "code",
   "execution_count": 52,
   "metadata": {},
   "outputs": [],
   "source": [
    "import shap\n",
    "import joblib\n",
    "import pandas as pd\n",
    "import re\n",
    "import numpy as np\n",
    "import seaborn as sns\n",
    "\n",
    "import mygene\n",
    "import matplotlib.pyplot as plt\n",
    "from matplotlib.pyplot import savefig, close"
   ]
  },
  {
   "cell_type": "markdown",
   "metadata": {},
   "source": [
    "We will be using LinearExplainer\n",
    "\n",
    "\n",
    "Computes SHAP values for a linear model, optionally accounting for inter-feature correlations.\n",
    "\n",
    "This computes the SHAP values for a linear model and can account for the correlations among the input features. Assuming features are independent leads to interventional SHAP values which for a linear model are coef[i] * (x[i] - X.mean(0)[i]) for the ith feature. If instead we account for correlations then we prevent any problems arising from colinearity and share credit among correlated features. Accounting for correlations can be computationally challenging, but LinearExplainer uses sampling to estimate a transform that can then be applied to explain any prediction of the mode"
   ]
  },
  {
   "cell_type": "code",
   "execution_count": 53,
   "metadata": {},
   "outputs": [],
   "source": [
    "# Function to convert probes names\n",
    "\n",
    "def convert_gene_name(ensembl_ids, ticks=False):\n",
    "    mg = mygene.MyGeneInfo()\n",
    "    gene_symbol_names = []\n",
    "    for id in ensembl_ids:\n",
    "        if ticks:\n",
    "            id = id.get_text()\n",
    "            # Note: this requires an internet connection\n",
    "        query = mg.query(id.split(\".\")[0],\n",
    "                         scopes='ensembl.gene', fields='symbol',\n",
    "                         species='human', returnall=True,\n",
    "                         as_datafarame=True, size=1)\n",
    "        try:\n",
    "            if query['hits']:\n",
    "                if len(query['hits'][0]['symbol']) < 3:\n",
    "                    query_add = mg.query(id.split(\".\")[0],\n",
    "                                         scopes='ensembl.gene', fields='name',\n",
    "                                         species='human', returnall=True,\n",
    "                                         as_datafarame=True, size=1)\n",
    "                    gene_symbol_names.append(query['hits'][0]['symbol'] + \"\\n(\" +\n",
    "                                             query_add['hits'][0]['name'] + \")\")\n",
    "                else:\n",
    "                    gene_symbol_names.append(query['hits'][0]['symbol'])\n",
    "            else:\n",
    "                gene_symbol_names.append(id)\n",
    "        except KeyError:\n",
    "            gene_symbol_names.append(id)\n",
    "    return gene_symbol_names\n",
    "\n",
    "\n",
    "def normalize_score(shap_values_df): \n",
    "    \"\"\"Normalize the score\"\"\"\n",
    "    mean_abs_scores = shap_values_df.abs().mean()\n",
    "\n",
    "    normalized_scores = (mean_abs_scores / mean_abs_scores.sum()) * 100\n",
    "\n",
    "    normalized_scores_df = pd.DataFrame({\n",
    "        'column_name': mean_abs_scores.index,\n",
    "        'score': mean_abs_scores.values,\n",
    "        'normalized_score': normalized_scores.values\n",
    "    })\n",
    "    return normalized_scores_df[normalized_scores_df.score != 0]\n",
    "\n",
    "\n"
   ]
  },
  {
   "cell_type": "code",
   "execution_count": 54,
   "metadata": {},
   "outputs": [
    {
     "name": "stderr",
     "output_type": "stream",
     "text": [
      "Trying to unpickle estimator QuantileTransformer from version 1.4.1.post1 when using version 1.3.0. This might lead to breaking code or invalid results. Use at your own risk. For more info please refer to:\n",
      "https://scikit-learn.org/stable/model_persistence.html#security-maintainability-limitations\n",
      "Trying to unpickle estimator ElasticNet from version 1.4.1.post1 when using version 1.3.0. This might lead to breaking code or invalid results. Use at your own risk. For more info please refer to:\n",
      "https://scikit-learn.org/stable/model_persistence.html#security-maintainability-limitations\n",
      "Trying to unpickle estimator Pipeline from version 1.4.1.post1 when using version 1.3.0. This might lead to breaking code or invalid results. Use at your own risk. For more info please refer to:\n",
      "https://scikit-learn.org/stable/model_persistence.html#security-maintainability-limitations\n"
     ]
    }
   ],
   "source": [
    "# Load models\n",
    "lung = joblib.load(\"../../results/4.gexp_models/lung/13.pipeline_lung.pkl\")\n",
    "ovary = joblib.load(\"../../results/4.gexp_models/ovary/13.pipeline_ovary.pkl\")"
   ]
  },
  {
   "cell_type": "code",
   "execution_count": 55,
   "metadata": {},
   "outputs": [],
   "source": [
    "def compute_shap_values(pipeline, tissue):\n",
    "    \"\"\"Compute SHAP values using linearExplainer\"\"\"\n",
    "    coef = pd.read_csv(f\"../../results/4.gexp_models/{tissue}/13.EN_feature_importance_{tissue}.csv\")\n",
    "    \n",
    "    # Load Lung data\n",
    "    gexp = pd.read_csv(f\"../../data/X_coding_{tissue}_log2.csv\", header=0, index_col=0)\n",
    "    test_set = pd.read_csv(f\"../../metadata/{tissue}_test_metadata.csv\")\n",
    "    metadata = pd.read_csv(f\"../../metadata/gene_expression_metadata/metadata_{tissue}.tsv\", sep = \"\\t\")\n",
    "\n",
    "\n",
    "    # Parse metadata and subset test set\n",
    "    gexp.columns = [re.sub(r\"-SM-.*\", \"\", i) for i in gexp.columns.to_list()]\n",
    "\n",
    "    metadata_train = metadata.query(\"tissue_sample_id not in @test_set.sample_id\")\n",
    "    metadata_test = metadata.query(\"tissue_sample_id in @test_set.sample_id\")\n",
    "    \n",
    "    # Feature selection\n",
    "    gexp = gexp[coef.genes]\n",
    "    ### Subset the test set for gexp data\n",
    "    gexp_train = gexp[gexp.index.isin(metadata_train.tissue_sample_id)]\n",
    "    gexp_test = gexp[gexp.index.isin(metadata_test.tissue_sample_id)]\n",
    "\n",
    "    # Normalize the data \n",
    "    qt_norm = pipeline[0]\n",
    "    gexp_train_norm = qt_norm.transform(gexp_train)\n",
    "    gexp_test_norm = qt_norm.transform(gexp_test)\n",
    "\n",
    "\n",
    "    explainer = shap.LinearExplainer(model = pipeline[1], masker = shap.maskers.Independent(gexp_train_norm))\n",
    "    shap_values = explainer.shap_values(gexp_test_norm)\n",
    "\n",
    "    return(shap_values, pd.DataFrame(shap_values, columns=gexp_train.columns.tolist()), gexp_test_norm)"
   ]
  },
  {
   "cell_type": "code",
   "execution_count": 56,
   "metadata": {},
   "outputs": [],
   "source": [
    "shap_values_lung, shap_values_lung_df, meth_test_norm_lung = compute_shap_values(lung, \"lung\")\n",
    "shap_values_ovary, shap_values_ovary_df,  meth_test_norm_ovary = compute_shap_values(ovary, \"ovary\")"
   ]
  },
  {
   "cell_type": "code",
   "execution_count": 57,
   "metadata": {},
   "outputs": [],
   "source": [
    "## Convert gene names \n",
    "feature_names_lung = convert_gene_name(shap_values_lung_df.columns.tolist())\n",
    "feature_names_ovary = convert_gene_name(shap_values_ovary_df.columns.tolist())"
   ]
  },
  {
   "cell_type": "code",
   "execution_count": 59,
   "metadata": {},
   "outputs": [],
   "source": [
    "shap_values_lung_df_norm = normalize_score(shap_values_lung_df)\n",
    "shap_values_ovary_df_norm = normalize_score(shap_values_ovary_df)\n",
    "\n"
   ]
  },
  {
   "cell_type": "code",
   "execution_count": 75,
   "metadata": {},
   "outputs": [],
   "source": [
    "\n",
    "shap.summary_plot(\n",
    "    shap_values_lung, meth_test_norm_lung, feature_names=feature_names_lung, max_display = 10, show = False\n",
    ")\n",
    "savefig(\"../../aging_notes/figures/6.feature_analysis/_lung_shap_feature_plot_gene_expression.pdf\")\n",
    "close()\n",
    "\n",
    "\n",
    "shap.summary_plot(\n",
    "    shap_values_ovary, meth_test_norm_ovary, feature_names=feature_names_ovary, max_display = 10, show = False\n",
    ")\n",
    "savefig(\"../../aging_notes/figures/6.feature_analysis/_ovary_shap_feature_violin_bar.pdf\")\n",
    "close()"
   ]
  }
 ],
 "metadata": {
  "kernelspec": {
   "display_name": "Python 3",
   "language": "python",
   "name": "python3"
  },
  "language_info": {
   "codemirror_mode": {
    "name": "ipython",
    "version": 3
   },
   "file_extension": ".py",
   "mimetype": "text/x-python",
   "name": "python",
   "nbconvert_exporter": "python",
   "pygments_lexer": "ipython3",
   "version": "3.11.1"
  }
 },
 "nbformat": 4,
 "nbformat_minor": 2
}
